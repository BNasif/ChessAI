{
 "cells": [
  {
   "cell_type": "code",
   "execution_count": 1,
   "id": "1f0d1a2d",
   "metadata": {},
   "outputs": [],
   "source": [
    "import os\n",
    "import chess\n",
    "import numpy as np\n",
    "import pandas as pd\n",
    "import keras"
   ]
  },
  {
   "cell_type": "code",
   "execution_count": 2,
   "id": "8dee8572",
   "metadata": {},
   "outputs": [
    {
     "data": {
      "text/plain": [
       "FEN           object\n",
       "Evaluation    object\n",
       "dtype: object"
      ]
     },
     "execution_count": 2,
     "metadata": {},
     "output_type": "execute_result"
    }
   ],
   "source": [
    "#Load FEN and Evaluation value data into a pandas dataframe\n",
    "\n",
    "os.chdir('/Users/Nasif/Chess AI')\n",
    "df = pd.read_csv('random_evals.csv')\n",
    "\n",
    "nOfSamples = 10000 #Number of samples to test the NN with\n",
    "\n",
    "df=df.drop(df.index[nOfSamples:]) \n",
    "\n",
    "#df.dtypes"
   ]
  },
  {
   "cell_type": "code",
   "execution_count": 3,
   "id": "c541ad2f",
   "metadata": {},
   "outputs": [
    {
     "name": "stdout",
     "output_type": "stream",
     "text": [
      "[[[0, 0, 0, 1, 0, 0, 0, 0, 0, 0, 0, 0], [0, 1, 0, 0, 0, 0, 0, 0, 0, 0, 0, 0], [0, 0, 1, 0, 0, 0, 0, 0, 0, 0, 0, 0], [0, 0, 0, 0, 1, 0, 0, 0, 0, 0, 0, 0], [0, 0, 0, 0, 0, 1, 0, 0, 0, 0, 0, 0], [0, 0, 1, 0, 0, 0, 0, 0, 0, 0, 0, 0], [0, 0, 0, 0, 0, 0, 0, 0, 0, 0, 0, 0], [0, 0, 0, 1, 0, 0, 0, 0, 0, 0, 0, 0]], [[1, 0, 0, 0, 0, 0, 0, 0, 0, 0, 0, 0], [1, 0, 0, 0, 0, 0, 0, 0, 0, 0, 0, 0], [1, 0, 0, 0, 0, 0, 0, 0, 0, 0, 0, 0], [1, 0, 0, 0, 0, 0, 0, 0, 0, 0, 0, 0], [1, 0, 0, 0, 0, 0, 0, 0, 0, 0, 0, 0], [1, 0, 0, 0, 0, 0, 0, 0, 0, 0, 0, 0], [1, 0, 0, 0, 0, 0, 0, 0, 0, 0, 0, 0], [1, 0, 0, 0, 0, 0, 0, 0, 0, 0, 0, 0]], [[0, 0, 0, 0, 0, 0, 0, 0, 1, 0, 0, 0], [0, 0, 0, 0, 0, 0, 0, 0, 0, 0, 0, 0], [0, 0, 0, 0, 0, 0, 0, 0, 0, 0, 0, 0], [0, 0, 0, 0, 0, 0, 0, 0, 0, 0, 0, 0], [0, 0, 0, 0, 0, 0, 0, 0, 0, 0, 0, 0], [0, 1, 0, 0, 0, 0, 0, 0, 0, 0, 0, 0], [0, 0, 0, 0, 0, 0, 0, 0, 0, 0, 0, 0], [0, 0, 0, 0, 0, 0, 0, 0, 0, 0, 0, 0]], [[0, 0, 0, 0, 0, 0, 0, 0, 0, 0, 0, 0], [0, 0, 0, 0, 0, 0, 0, 0, 0, 0, 0, 0], [0, 0, 0, 0, 0, 0, 0, 0, 0, 0, 0, 0], [0, 0, 0, 0, 0, 0, 0, 0, 0, 0, 0, 0], [0, 0, 0, 0, 0, 0, 0, 0, 0, 0, 0, 0], [0, 0, 0, 0, 0, 0, 0, 0, 0, 0, 0, 0], [0, 0, 0, 0, 0, 0, 0, 0, 0, 0, 0, 0], [0, 0, 0, 0, 0, 0, 0, 0, 0, 0, 0, 0]], [[0, 0, 0, 0, 0, 0, 0, 0, 0, 0, 0, 0], [0, 0, 0, 0, 0, 0, 0, 0, 0, 0, 0, 0], [0, 0, 0, 0, 0, 0, 0, 0, 0, 0, 0, 0], [0, 0, 0, 0, 0, 0, 0, 0, 0, 0, 0, 0], [0, 0, 0, 0, 0, 0, 1, 0, 0, 0, 0, 0], [0, 0, 0, 0, 0, 0, 0, 0, 0, 0, 0, 0], [0, 0, 0, 0, 0, 0, 0, 0, 0, 0, 0, 0], [0, 0, 0, 0, 0, 0, 0, 0, 0, 0, 0, 0]], [[0, 0, 0, 0, 0, 0, 0, 0, 0, 0, 0, 0], [0, 0, 0, 0, 0, 0, 0, 0, 0, 0, 0, 0], [0, 0, 0, 0, 0, 0, 0, 0, 0, 0, 0, 0], [0, 0, 0, 0, 0, 0, 0, 0, 0, 0, 0, 0], [0, 0, 0, 0, 0, 0, 0, 0, 0, 0, 0, 0], [0, 0, 0, 0, 0, 0, 0, 0, 0, 0, 0, 0], [0, 0, 0, 0, 0, 0, 0, 0, 0, 0, 0, 0], [0, 0, 0, 0, 0, 0, 0, 0, 0, 0, 0, 0]], [[0, 0, 0, 0, 0, 0, 1, 0, 0, 0, 0, 0], [0, 0, 0, 0, 0, 0, 1, 0, 0, 0, 0, 0], [0, 0, 0, 0, 0, 0, 1, 0, 0, 0, 0, 0], [0, 0, 0, 0, 0, 0, 1, 0, 0, 0, 0, 0], [0, 0, 0, 0, 0, 0, 0, 0, 0, 0, 0, 0], [0, 0, 0, 0, 0, 0, 1, 0, 0, 0, 0, 0], [0, 0, 0, 0, 0, 0, 1, 0, 0, 0, 0, 0], [0, 0, 0, 0, 0, 0, 1, 0, 0, 0, 0, 0]], [[0, 0, 0, 0, 0, 0, 0, 0, 0, 1, 0, 0], [0, 0, 0, 0, 0, 0, 0, 1, 0, 0, 0, 0], [0, 0, 0, 0, 0, 0, 0, 0, 1, 0, 0, 0], [0, 0, 0, 0, 0, 0, 0, 0, 0, 0, 1, 0], [0, 0, 0, 0, 0, 0, 0, 0, 0, 0, 0, 1], [0, 0, 0, 0, 0, 0, 0, 0, 0, 0, 0, 0], [0, 0, 0, 0, 0, 0, 0, 1, 0, 0, 0, 0], [0, 0, 0, 0, 0, 0, 0, 0, 0, 1, 0, 0]]]\n"
     ]
    }
   ],
   "source": [
    "#One hot encoding of chess pieces dictionary\n",
    "chess_dict = {\n",
    "    'p' : [1,0,0,0,0,0,0,0,0,0,0,0],\n",
    "    'P' : [0,0,0,0,0,0,1,0,0,0,0,0],\n",
    "    'n' : [0,1,0,0,0,0,0,0,0,0,0,0],\n",
    "    'N' : [0,0,0,0,0,0,0,1,0,0,0,0],\n",
    "    'b' : [0,0,1,0,0,0,0,0,0,0,0,0],\n",
    "    'B' : [0,0,0,0,0,0,0,0,1,0,0,0],\n",
    "    'r' : [0,0,0,1,0,0,0,0,0,0,0,0],\n",
    "    'R' : [0,0,0,0,0,0,0,0,0,1,0,0],\n",
    "    'q' : [0,0,0,0,1,0,0,0,0,0,0,0],\n",
    "    'Q' : [0,0,0,0,0,0,0,0,0,0,1,0],\n",
    "    'k' : [0,0,0,0,0,1,0,0,0,0,0,0],\n",
    "    'K' : [0,0,0,0,0,0,0,0,0,0,0,1],\n",
    "    '.' : [0,0,0,0,0,0,0,0,0,0,0,0],\n",
    "} \n",
    "\n",
    "def make_matrix(fenString): #Converts FEN data to a ASCII representation of the chess board\n",
    "    board = chess.Board()\n",
    "    #set up board from FEN data\n",
    "    board.set_fen(fenString)\n",
    "    fen = board.fen()\n",
    "    tempArr1 = [] \n",
    "    #After FEN data inputted in board in chess library, extract the piece position information\n",
    "    pieces = fen.split(\" \", 1)[0]\n",
    "    rows = pieces.split(\"/\")\n",
    "    for row in rows:\n",
    "        tempArr2 = []  \n",
    "        for thing in row:\n",
    "            if thing.isdigit():\n",
    "                for i in range(0, int(thing)):\n",
    "                    tempArr2.append('.')\n",
    "            else:\n",
    "                tempArr2.append(thing)\n",
    "        tempArr1.append(tempArr2)\n",
    "    return tempArr1\n",
    "\n",
    "def translate(matrix,chess_dict): #Converts ASCII representation to matrix for NN input\n",
    "    rows = []\n",
    "    for row in matrix:\n",
    "        terms = []\n",
    "        for term in row:\n",
    "            terms.append(chess_dict[term])\n",
    "        rows.append(terms)\n",
    "    return rows\n",
    "\n",
    "#print(translate(make_matrix('rnbqkb1r/pppppppp/B4n2/8/4P3/8/PPPP1PPP/RNBQK1NR b KQkq - 2 2'),chess_dict))"
   ]
  },
  {
   "cell_type": "code",
   "execution_count": 4,
   "id": "4d59cc84",
   "metadata": {},
   "outputs": [],
   "source": [
    "#Process evaluation data for NN Input\n",
    "\n",
    "def NormalizeData(data): #normalize evaluation data \n",
    "    normDataSet = []\n",
    "    minY = (np.min(data))\n",
    "    maxY = (np.max(data))\n",
    "    for x in data:\n",
    "        temp = (((x - minY)/(maxY-minY)))\n",
    "        normDataSet.append(temp)\n",
    "    return normDataSet,data\n",
    "\n",
    "def deNormalizeData(arr,minY,maxY): #DeNormalize to check against real evaluation score\n",
    "    data = []\n",
    "    for x in arr:\n",
    "        y = (x*(maxY-minY)+minY)\n",
    "        data.append(y)\n",
    "    return data\n",
    "\n",
    "def data_setup():\n",
    "    testX = []\n",
    "    testY = []\n",
    "    i = 0\n",
    "    while (i<nOfSamples):\n",
    "        matrix = make_matrix(df.iloc[i,0])\n",
    "        trans_matrix = translate(matrix,chess_dict)\n",
    "        temp = df.iloc[i,1]\n",
    "        if '#' not in temp:\n",
    "            testY.append(int(temp))\n",
    "            testX.append(trans_matrix)\n",
    "        i += 1\n",
    "    return testX,testY\n",
    "\n",
    "testX,testY = data_setup()\n",
    "del[df] #delete dataframe after data extraction to save memory in computer\n",
    "testY,mainY = NormalizeData(testY)"
   ]
  },
  {
   "cell_type": "code",
   "execution_count": 5,
   "id": "d842d15c",
   "metadata": {},
   "outputs": [
    {
     "name": "stdout",
     "output_type": "stream",
     "text": [
      "283/283 [==============================] - 4s 14ms/step - loss: 0.0030 - mae: 0.0345\n",
      "Test loss: 0.003035562578588724\n"
     ]
    }
   ],
   "source": [
    "model = keras.models.load_model('test2.h5') #Load and evaluate model to see loss and mean absolte error\n",
    "score = model.evaluate(testX,testY,verbose=1)\n",
    "print(f'Test loss: {score[0]}')"
   ]
  },
  {
   "cell_type": "code",
   "execution_count": 6,
   "id": "13be8c93",
   "metadata": {},
   "outputs": [
    {
     "name": "stdout",
     "output_type": "stream",
     "text": [
      "283/283 [==============================] - 4s 13ms/step\n"
     ]
    }
   ],
   "source": [
    "predict_vals = model.predict(testX,verbose=1)  #Predict evaluation values given test input FEN data"
   ]
  },
  {
   "cell_type": "code",
   "execution_count": 7,
   "id": "4eadc777",
   "metadata": {},
   "outputs": [],
   "source": [
    "#Process data for representation\n",
    "arr1 = []\n",
    "i = 0\n",
    "while (i <9000):\n",
    "    diff = testY[i] - predict_vals[i]\n",
    "    arr1.append(diff)\n",
    "    i += 1\n",
    "    "
   ]
  },
  {
   "cell_type": "code",
   "execution_count": 8,
   "id": "c3121e79",
   "metadata": {},
   "outputs": [
    {
     "data": {
      "text/plain": [
       "Text(0, 0.5, 'Diff between actual val and predicted val')"
      ]
     },
     "execution_count": 8,
     "metadata": {},
     "output_type": "execute_result"
    },
    {
     "data": {
      "image/png": "[encoded data removed]",
      "text/plain": [
       "<Figure size 432x288 with 1 Axes>"
      ]
     },
     "metadata": {
      "needs_background": "light"
     },
     "output_type": "display_data"
    }
   ],
   "source": [
    "import matplotlib.pyplot as pyplot\n",
    "import random\n",
    "sampleN = 9000\n",
    "y = []\n",
    "i = 0\n",
    "\n",
    "#Get Difference values which is always positive so we only take absolute values of the differences for visual representation and analysis\n",
    "for i in range(sampleN):\n",
    "    y.append(abs(arr1[i]))\n",
    "\n",
    "#Plot graph\n",
    "x = list(range(0,sampleN))\n",
    "pyplot.plot(x,y) \n",
    "pyplot.xlabel(\"Sample Number\")\n",
    "pyplot.ylabel(\"Diff between actual val and predicted val\")"
   ]
  },
  {
   "cell_type": "code",
   "execution_count": 28,
   "id": "dcbe1a80",
   "metadata": {},
   "outputs": [
    {
     "data": {
      "text/plain": [
       "(array([391., 412., 392., 368., 375., 348., 400., 364., 312., 325., 312.,\n",
       "        349., 332., 339., 254., 236., 245., 240., 201., 190., 178., 163.,\n",
       "        154., 159., 119., 135., 133., 104.,  96.,  91.,  93.,  90.,  70.,\n",
       "         87.,  68.,  60.,  47.,  57.,  39.,  43.,  42.,  34.,  32.,  34.,\n",
       "         36.,  40.,  33.,  32.,  20.,  20.]),\n",
       " array([0.   , 0.002, 0.004, 0.006, 0.008, 0.01 , 0.012, 0.014, 0.016,\n",
       "        0.018, 0.02 , 0.022, 0.024, 0.026, 0.028, 0.03 , 0.032, 0.034,\n",
       "        0.036, 0.038, 0.04 , 0.042, 0.044, 0.046, 0.048, 0.05 , 0.052,\n",
       "        0.054, 0.056, 0.058, 0.06 , 0.062, 0.064, 0.066, 0.068, 0.07 ,\n",
       "        0.072, 0.074, 0.076, 0.078, 0.08 , 0.082, 0.084, 0.086, 0.088,\n",
       "        0.09 , 0.092, 0.094, 0.096, 0.098, 0.1  ]),\n",
       " <BarContainer object of 50 artists>)"
      ]
     },
     "execution_count": 28,
     "metadata": {},
     "output_type": "execute_result"
    },
    {
     "data": {
      "image/png": "[encoded data removed]",
      "text/plain": [
       "<Figure size 432x288 with 1 Axes>"
      ]
     },
     "metadata": {
      "needs_background": "light"
     },
     "output_type": "display_data"
    }
   ],
   "source": [
    "roundY = []\n",
    "\n",
    "#Plot Histogram\n",
    "for val in y:\n",
    "    temp = round(float(val),300) #rounded to 3 decimal points for histogram representation\n",
    "    roundY.append(temp)\n",
    "pyplot.ylabel(\"Frequency\")\n",
    "pyplot.xlabel(\"Difference between actual and predicted values\")\n",
    "pyplot.hist(roundY,bins=50,range=(0,0.1))"
   ]
  },
  {
   "cell_type": "code",
   "execution_count": 33,
   "id": "0a5865be",
   "metadata": {},
   "outputs": [
    {
     "data": {
      "text/plain": [
       "[<matplotlib.lines.Line2D at 0x1b68a69b820>]"
      ]
     },
     "execution_count": 33,
     "metadata": {},
     "output_type": "execute_result"
    },
    {
     "data": {
      "image/png": "[encoded data removed]",
      "text/plain": [
       "<Figure size 432x288 with 1 Axes>"
      ]
     },
     "metadata": {
      "needs_background": "light"
     },
     "output_type": "display_data"
    }
   ],
   "source": [
    "values, base = np.histogram(roundY, bins=50)\n",
    "#evaluate the cumulative\n",
    "cumulative = np.cumsum(values)\n",
    "# plot the cumulative function\n",
    "pyplot.ylabel(\"Frequency\")\n",
    "pyplot.xlabel(\"Difference between actual and predicted values\")\n",
    "pyplot.plot(base[:-1], cumulative, c='blue')\n"
   ]
  },
  {
   "cell_type": "code",
   "execution_count": 18,
   "id": "75583f86",
   "metadata": {},
   "outputs": [
    {
     "name": "stdout",
     "output_type": "stream",
     "text": [
      "Number of Samples less than or equal to 0.1 = 8694\n"
     ]
    }
   ],
   "source": [
    "len(roundY)\n",
    "restVals = []\n",
    "for tempVal in roundY:\n",
    "    if tempVal <= 0.1:\n",
    "        restVals.append(tempVal)\n",
    "print(\"Number of Samples less than or equal to 0.1 = \" + str(len(restVals)))"
   ]
  },
  {
   "cell_type": "code",
   "execution_count": 27,
   "id": "0c4da991",
   "metadata": {},
   "outputs": [
    {
     "name": "stdout",
     "output_type": "stream",
     "text": [
      "Mean Difference = 0.03455917353762521\n",
      "Median Difference = 0.024913206696510315\n",
      "Mode Difference = 0.031095147132873535\n",
      "Population Standard Deviation = 0.04305645336908341\n"
     ]
    }
   ],
   "source": [
    "import statistics as sts\n",
    "\n",
    "#Print Statistical values from difference dataset\n",
    "print(\"Mean Difference = \" + str(sts.mean(roundY)))\n",
    "print(\"Median Difference = \" + str(sts.median(roundY)))\n",
    "print(\"Mode Difference = \" + str(sts.mode(roundY)))\n",
    "print(\"Population Standard Deviation = \" + str(sts.pstdev(roundY)))\n"
   ]
  },
  {
   "cell_type": "code",
   "execution_count": 12,
   "id": "56b7d130",
   "metadata": {},
   "outputs": [
    {
     "name": "stdout",
     "output_type": "stream",
     "text": [
      "Model: \"sequential\"\n",
      "_________________________________________________________________\n",
      " Layer (type)                Output Shape              Param #   \n",
      "=================================================================\n",
      " flatten (Flatten)           (None, 768)               0         \n",
      "                                                                 \n",
      " dense (Dense)               (None, 2048)              1574912   \n",
      "                                                                 \n",
      " dropout (Dropout)           (None, 2048)              0         \n",
      "                                                                 \n",
      " dense_1 (Dense)             (None, 2048)              4196352   \n",
      "                                                                 \n",
      " dropout_1 (Dropout)         (None, 2048)              0         \n",
      "                                                                 \n",
      " dense_2 (Dense)             (None, 2048)              4196352   \n",
      "                                                                 \n",
      " dropout_2 (Dropout)         (None, 2048)              0         \n",
      "                                                                 \n",
      " dense_3 (Dense)             (None, 1)                 2049      \n",
      "                                                                 \n",
      " activation (Activation)     (None, 1)                 0         \n",
      "                                                                 \n",
      "=================================================================\n",
      "Total params: 9,969,665\n",
      "Trainable params: 9,969,665\n",
      "Non-trainable params: 0\n",
      "_________________________________________________________________\n"
     ]
    }
   ],
   "source": [
    "model.summary()"
   ]
  }
 ],
 "metadata": {
  "kernelspec": {
   "display_name": "Python 3",
   "language": "python",
   "name": "python3"
  },
  "language_info": {
   "codemirror_mode": {
    "name": "ipython",
    "version": 3
   },
   "file_extension": ".py",
   "mimetype": "text/x-python",
   "name": "python",
   "nbconvert_exporter": "python",
   "pygments_lexer": "ipython3",
   "version": "3.8.8"
  }
 },
 "nbformat": 4,
 "nbformat_minor": 5
}
